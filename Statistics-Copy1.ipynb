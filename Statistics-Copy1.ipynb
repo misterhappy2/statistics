{
 "cells": [
  {
   "cell_type": "markdown",
   "metadata": {},
   "source": [
    "# Inferential Statistics"
   ]
  },
  {
   "cell_type": "markdown",
   "metadata": {},
   "source": [
    "<h3> Springboard project to apply inferential statistics in my capstone project. </h3>  \n",
    "Use this to gain more insight into my EDA.\n",
    "\n",
    "***\n",
    "<h2>CREDIT CARD DEFAULTS</h2>  \n",
    "*** \n",
    "\n",
    "<h3> The Data: </h3>  \n",
    "<p>UC Irvine Machine Learning Repository has a file on credit card defaults from Taiwan in 2005.    https://archive.ics.uci.edu/ml/datasets/default+of+credit+card+clients  \n",
    "The set of 30,000 includes whether the account defaulted in the next month, as well as demographic and account data, including: gender, marital status, education attained, age, amount of household credit, and 6 month history of credit balance, payments, and defaults. \n",
    "(In 2003, the exchange rate was 1USD to 34 Taiwanese Dollars.) </p>\n",
    "\n",
    "<div class=\"span5 alert alert-info\">\n",
    "<p>Attribute Information:\n",
    "<p>\n",
    "This research employed a binary variable, default payment (Yes = 1, No = 0), as the response variable. This study reviewed the literature and used the following 23 variables as explanatory variables:  \n",
    "\n",
    "LIMIT_BAL: Amount of the given credit (NT dollar): it includes both the individual consumer credit and his/her family (supplementary) credit.  \n",
    "\n",
    "SEX: Gender (1 = male; 2 = female).  \n",
    "\n",
    "EDUCATION: Education (1 = graduate school; 2 = university; 3 = high school; 4 = others).   \n",
    "\n",
    "MARRIAGE: Marital status (1 = married; 2 = single; 3 = others).  \n",
    "\n",
    "AGE: Age (year).  \n",
    "\n",
    "PAY_0 - PAY_6: History of past payment. We tracked the past monthly payment records (from April to September, 2005) as follows: PAY_0 = the repayment status in September, 2005; PAY_2 = the repayment status in August, 2005; . . .;PAY_6 = the repayment status in April, 2005.  \n",
    "The measurement scale for the repayment status is: -1 = pay duly; 1 = payment delay for one month; 2 = payment delay for two months; . . .; 8 = payment delay for eight months; 9 = payment delay for nine months and above.  \n",
    "\n",
    "BILL_AMT1-BILL_AMT6: Amount of bill statement (NT dollar). BILL_AMT1 = amount of bill statement in September, 2005; BILL_AMT2 = amount of bill statement in August, 2005; . . .; BILL_AMT6 = amount of bill statement in April, 2005.  \n",
    "\n",
    "PAY_AMT1-PAY_AMT6: Amount of previous payment (NT dollar). PAY_AMT1 = amount paid in September, 2005; PAY_AMT2 = amount paid in August, 2005; . . .;PAY_AMT6 = amount paid in April, 2005.  </p>\n",
    "</div>"
   ]
  },
  {
   "cell_type": "code",
   "execution_count": 4,
   "metadata": {},
   "outputs": [
    {
     "name": "stderr",
     "output_type": "stream",
     "text": [
      "/Users/brentmarijensen/anaconda3/lib/python3.6/site-packages/sklearn/utils/validation.py:475: DataConversionWarning: Data with input dtype int64 was converted to float64 by the scale function.\n",
      "  warnings.warn(msg, DataConversionWarning)\n"
     ]
    }
   ],
   "source": [
    "import csv\n",
    "import pandas as pd\n",
    "import numpy as np\n",
    "import matplotlib.pyplot as plt\n",
    "import seaborn as sns\n",
    "from scipy import stats\n",
    "from sklearn.preprocessing import scale\n",
    "\n",
    "cc_file = '/Users/brentmarijensen/Desktop/credit_card.xls'\n",
    "df = pd.read_excel(cc_file,header=1)\n",
    "target = 'default payment next month'\n",
    "\n",
    "#DATA CLEANING\n",
    "clean_df = df\n",
    "clean_df = clean_df.drop('ID', axis=1)\n",
    "\n",
    "# valid EDUCATION codes are 1,2,3,4.  Change other codes to 4, meaning \"others.\"\n",
    "for i in range (len(clean_df)):\n",
    "    if clean_df['EDUCATION'][i] < 1:\n",
    "        clean_df['EDUCATION'][i] = 4\n",
    "    elif clean_df['EDUCATION'][i] > 4:\n",
    "        clean_df['EDUCATION'][i] = 4\n",
    "        \n",
    "# valid MARRIAGE codes are 1,2,3.  Change other codes to 3, meaning \"other.\"\n",
    "for i in range (len(clean_df)):\n",
    "    if clean_df['MARRIAGE'][i] < 1:\n",
    "        clean_df['MARRIAGE'][i] = 3     \n",
    "        \n",
    "# PAY_1 to PAY_6.  Change column name PAY_0 to PAY_1\n",
    "# change negative entries to 0, indicating 0 months behind.  \n",
    "# a positive integer represents the number of months behind.\n",
    "clean_df=clean_df.rename(columns = {'PAY_0':'PAY_1'})\n",
    "vars = ['PAY_1', 'PAY_2', 'PAY_3', 'PAY_4', 'PAY_5', 'PAY_6']\n",
    "for i in range (len(clean_df)):\n",
    "    for var in vars:\n",
    "        if clean_df[var][i]<0:\n",
    "            clean_df[var][i] = 0  \n",
    "            \n",
    "# Standardize the data frame, and create X for predictor variables, y for target\n",
    "X = clean_df.drop('default payment next month', axis=1).values\n",
    "y = clean_df['default payment next month'].values\n",
    "X_scaled = scale(X)"
   ]
  },
  {
   "cell_type": "code",
   "execution_count": 2,
   "metadata": {},
   "outputs": [
    {
     "name": "stdout",
     "output_type": "stream",
     "text": [
      "mean household credit: 167484.32266666667\n",
      "max household credit: 1000000\n",
      "min household credit: 10000\n",
      "standard deviation: 129747.66156719506\n",
      "30000\n"
     ]
    },
    {
     "data": {
      "image/png": "[encoded data removed]",
      "text/plain": [
       "<matplotlib.figure.Figure at 0x109cb5080>"
      ]
     },
     "metadata": {},
     "output_type": "display_data"
    }
   ],
   "source": [
    "#limit balance, sorted by amount.  Compare it to a Normal distribution.\n",
    "import matplotlib.pyplot as plt\n",
    "\n",
    "housemean= clean_df['LIMIT_BAL'].mean()\n",
    "print(\"mean household credit:\", housemean)\n",
    "print(\"max household credit:\", clean_df['LIMIT_BAL'].max())\n",
    "print(\"min household credit:\", clean_df['LIMIT_BAL'].min())\n",
    "houseSD= clean_df['LIMIT_BAL'].std()\n",
    "print('standard deviation:', houseSD)\n",
    "print(len(clean_df))\n",
    "\n",
    "bins= np.arange(0,1020000,20000) #bins from 0 to 1 million, by 20,000 intervals\n",
    "_= plt.figure(figsize=(20,5))\n",
    "_= plt.hist(clean_df['LIMIT_BAL'], bins=bins, edgecolor=\"k\")\n",
    "_= plt.yscale(\"log\")\n",
    "_= plt.xticks(bins, rotation='vertical',size=14)\n",
    "_= plt.yticks(size=17)\n",
    "_= plt.title('LIMIT BAL sorted by amount, log scale.  Normal Dist overlaid.', size=20)\n",
    "samples= np.random.normal(housemean,houseSD,30000)\n",
    "_= plt.hist(samples, histtype='step', bins=bins)\n",
    "plt.show()"
   ]
  },
  {
   "cell_type": "markdown",
   "metadata": {},
   "source": [
    "The histogram approximately follows a normal distribution.  It's necessarily right skewed, since it is centered close to zero (the median is < 2 SDs from zero.)  This makes sense, because credit limits can be very low; indeed most new borrowers start out with a relatively low amount.  "
   ]
  },
  {
   "cell_type": "code",
   "execution_count": 3,
   "metadata": {},
   "outputs": [
    {
     "name": "stdout",
     "output_type": "stream",
     "text": [
      "[ 10000.          20000.          50000.         140000.\n",
      " 240000.         500000.         780001.99999995]\n"
     ]
    }
   ],
   "source": [
    "# Calculate percentiles\n",
    "percentiles = np.array([0.01,2.5,25,50,75,97.5,99.99])\n",
    "ptiles= np.percentile(clean_df['LIMIT_BAL'], percentiles)\n",
    "print(ptiles)"
   ]
  },
  {
   "cell_type": "code",
   "execution_count": 4,
   "metadata": {},
   "outputs": [
    {
     "data": {
      "image/png": "[encoded data removed]",
      "text/plain": [
       "<matplotlib.figure.Figure at 0x1a0f95d0b8>"
      ]
     },
     "metadata": {},
     "output_type": "display_data"
    }
   ],
   "source": [
    "def ecdf(data):\n",
    "    \"\"\"Compute ECDF for a one-dimensional array of measurements.\"\"\"\n",
    "    n = len(data)\n",
    "    x = np.sort(data)\n",
    "    y = np.arange(1, n+1) / n\n",
    "    return x, y\n",
    "\n",
    "# Compute ECDF \n",
    "x, y = ecdf(clean_df['LIMIT_BAL'])\n",
    "_= plt.figure(figsize=(20,5))\n",
    "_= plt.plot(x,y,marker='.',linestyle='none')\n",
    "_= plt.margins(0.02)\n",
    "_= plt.xlabel('Limit Bal')\n",
    "_= plt.ylabel('ECDF')\n",
    "_= plt.title('ECDF percentage')\n",
    "plt.show()"
   ]
  },
  {
   "cell_type": "markdown",
   "metadata": {},
   "source": [
    "<h4>    </h4>"
   ]
  },
  {
   "cell_type": "code",
   "execution_count": 5,
   "metadata": {},
   "outputs": [
    {
     "name": "stdout",
     "output_type": "stream",
     "text": [
      "1.7881393432617186e-11\n",
      "LIMIT_BAL (household credit) mean 167484.32266666667\n",
      "LIMIT_BAL (household credit) variance 16833894533.63455\n",
      "LIMIT_BAL (household credit) std dev 129745.49908815547\n"
     ]
    }
   ],
   "source": [
    "# Calculate variance (explicitly, not using np.var())\n",
    "differences = np.array(housemean - clean_df['LIMIT_BAL'])\n",
    "print(differences.mean())\n",
    "diff_square = differences*differences\n",
    "variance = np.mean(diff_square)\n",
    "print(\"LIMIT_BAL (household credit) mean\", housemean)\n",
    "print(\"LIMIT_BAL (household credit) variance\", variance)\n",
    "print(\"LIMIT_BAL (household credit) std dev\", np.sqrt(variance))"
   ]
  },
  {
   "cell_type": "code",
   "execution_count": null,
   "metadata": {},
   "outputs": [
    {
     "name": "stdout",
     "output_type": "stream",
     "text": [
      "number of large accounts 206\n",
      "Percentage of accounts over 500000 : 0.006866666666666667\n"
     ]
    }
   ],
   "source": [
    "# Count number of large accounts \n",
    "n= len(clean_df)\n",
    "large = 500000\n",
    "n_large = np.sum(clean_df['LIMIT_BAL'] > large)\n",
    "print('number of large accounts',n_large)\n",
    "p_large = n_large/n\n",
    "print('Percentage of accounts over',large,':', p_large)"
   ]
  },
  {
   "cell_type": "code",
   "execution_count": null,
   "metadata": {},
   "outputs": [],
   "source": [
    "#first try\n",
    "# scatter histogram combo for bill amount vs pay amount to look for visual correlation\n",
    "x= clean_df['PAY_AMT1']\n",
    "y= clean_df['BILL_AMT1']\n",
    "\n",
    "# definitions for the axes\n",
    "left, width = 0.1, 0.65\n",
    "bottom, height = 0.1, 0.65\n",
    "bottom_h = left_h = left + width + 0.02\n",
    "rect_scatter = [left, bottom, width, height]\n",
    "rect_histx = [left, bottom_h, width, 0.2]\n",
    "rect_histy = [left_h, bottom, 0.2, height]\n",
    "\n",
    "# start with a rectangular Figure\n",
    "plt.figure(1, figsize=(8, 8))\n",
    "\n",
    "axScatter = plt.axes(rect_scatter)\n",
    "axHistx = plt.axes(rect_histx)\n",
    "axHisty = plt.axes(rect_histy)\n",
    "\n",
    "# the scatter plot:\n",
    "axScatter.scatter(x, y)\n",
    "\n",
    "# now determine nice limits by hand:\n",
    "binwidth = 0.25\n",
    "xymax = max(np.max(np.abs(x)), np.max(np.abs(y)))\n",
    "lim = (int(xymax/binwidth) + 1) * binwidth\n",
    "\n",
    "axScatter.set_xlim((-lim, lim))\n",
    "axScatter.set_ylim((-lim, lim))\n",
    "\n",
    "bins = np.arange(-lim, lim + binwidth, binwidth)\n",
    "axHistx.hist(x, bins=bins)\n",
    "axHisty.hist(y, bins=bins, orientation='horizontal')\n",
    "\n",
    "axHistx.set_xlim(axScatter.get_xlim())\n",
    "axHisty.set_ylim(axScatter.get_ylim())\n",
    "\n",
    "plt.draw()\n",
    "plt.show()"
   ]
  },
  {
   "cell_type": "code",
   "execution_count": null,
   "metadata": {},
   "outputs": [],
   "source": [
    "#second try\n",
    "# scatter histogram combo for bill amount vs pay amount to look for visual correlation\n",
    "import matplotlib.pyplot as plt\n",
    "from matplotlib.gridspec import GridSpec\n",
    "import numpy as np\n",
    "\n",
    "x= clean_df['BILL_AMT1']\n",
    "y= clean_df['PAY_AMT1']\n",
    "\n",
    "fig = plt.figure(1, figsize=(8, 8))\n",
    "gs = GridSpec(4,4)\n",
    "\n",
    "ax_joint = fig.add_subplot(gs[1:4,0:3])\n",
    "ax_marg_x = fig.add_subplot(gs[0,0:3])\n",
    "ax_marg_y = fig.add_subplot(gs[1:4,3])\n",
    "_= plt.yscale(\"log\")\n",
    "_= plt.xscale(\"log\")\n",
    "\n",
    "ax_joint.scatter(x,y)\n",
    "ax_marg_x.hist(x)\n",
    "ax_marg_y.hist(y,orientation=\"horizontal\")\n",
    "\n",
    "# Turn off tick labels on marginals\n",
    "plt.setp(ax_marg_x.get_xticklabels(), visible=False)\n",
    "plt.setp(ax_marg_y.get_yticklabels(), visible=False)\n",
    "\n",
    "# Set labels on joint\n",
    "ax_joint.set_xlabel('Bill Amts ')\n",
    "ax_joint.set_ylabel('Pay Amts')\n",
    "\n",
    "# Set labels on marginals\n",
    "ax_marg_y.set_xlabel('Bill')\n",
    "ax_marg_x.set_ylabel('Pay')\n",
    "plt.show()"
   ]
  },
  {
   "cell_type": "markdown",
   "metadata": {},
   "source": [
    "It's hard to see correlation because most pay amounts are below 100,000.  We see that pay amounts are less than the bill amounts.  \n",
    "The most interesting part of this chart are the outliers.  Some bills are below 0.  Some payments exceed the bill amounts; these show errors or overpayments."
   ]
  },
  {
   "cell_type": "code",
   "execution_count": null,
   "metadata": {},
   "outputs": [],
   "source": []
  },
  {
   "cell_type": "code",
   "execution_count": null,
   "metadata": {},
   "outputs": [],
   "source": []
  },
  {
   "cell_type": "code",
   "execution_count": 5,
   "metadata": {},
   "outputs": [
    {
     "name": "stdout",
     "output_type": "stream",
     "text": [
      "                            OLS Regression Results                            \n",
      "==============================================================================\n",
      "Dep. Variable:              BILL_AMT1   R-squared:                       0.020\n",
      "Model:                            OLS   Adj. R-squared:                  0.020\n",
      "Method:                 Least Squares   F-statistic:                     602.1\n",
      "Date:                Tue, 19 Jun 2018   Prob (F-statistic):          1.14e-131\n",
      "Time:                        18:00:17   Log-Likelihood:            -3.7848e+05\n",
      "No. Observations:               30000   AIC:                         7.570e+05\n",
      "Df Residuals:                   29998   BIC:                         7.570e+05\n",
      "Df Model:                           1                                         \n",
      "Covariance Type:            nonrobust                                         \n",
      "==============================================================================\n",
      "                 coef    std err          t      P>|t|      [0.025      0.975]\n",
      "------------------------------------------------------------------------------\n",
      "Intercept   4.769e+04    444.869    107.203      0.000    4.68e+04    4.86e+04\n",
      "PAY_AMT1       0.6236      0.025     24.539      0.000       0.574       0.673\n",
      "==============================================================================\n",
      "Omnibus:                    16511.910   Durbin-Watson:                   1.973\n",
      "Prob(Omnibus):                  0.000   Jarque-Bera (JB):           145918.783\n",
      "Skew:                           2.536   Prob(JB):                         0.00\n",
      "Kurtosis:                      12.540   Cond. No.                     1.85e+04\n",
      "==============================================================================\n",
      "\n",
      "Warnings:\n",
      "[1] Standard Errors assume that the covariance matrix of the errors is correctly specified.\n",
      "[2] The condition number is large, 1.85e+04. This might indicate that there are\n",
      "strong multicollinearity or other numerical problems.\n"
     ]
    }
   ],
   "source": [
    "import scipy.stats as stats\n",
    "#import  statsmodels.formula.apistatsmode  as sm\n",
    "import statsmodels.api as sm\n",
    "from statsmodels.formula.api import ols\n",
    "model3= ols('BILL_AMT1 ~ PAY_AMT1', clean_df)\n",
    "fitmodel= model3.fit()\n",
    "print(fitmodel.summary())"
   ]
  },
  {
   "cell_type": "code",
   "execution_count": null,
   "metadata": {},
   "outputs": [],
   "source": []
  }
 ],
 "metadata": {
  "kernelspec": {
   "display_name": "Python 3",
   "language": "python",
   "name": "python3"
  },
  "language_info": {
   "codemirror_mode": {
    "name": "ipython",
    "version": 3
   },
   "file_extension": ".py",
   "mimetype": "text/x-python",
   "name": "python",
   "nbconvert_exporter": "python",
   "pygments_lexer": "ipython3",
   "version": "3.6.4"
  }
 },
 "nbformat": 4,
 "nbformat_minor": 2
}
